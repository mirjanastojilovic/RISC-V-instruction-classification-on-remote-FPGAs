{
 "cells": [
  {
   "cell_type": "code",
   "execution_count": 1,
   "id": "a5ec704b",
   "metadata": {},
   "outputs": [],
   "source": [
    "import pandas as pd\n",
    "import numpy as np\n",
    "import matplotlib.pyplot as plt\n",
    "import seaborn as sns"
   ]
  },
  {
   "cell_type": "code",
   "execution_count": 2,
   "id": "a1f360b1",
   "metadata": {},
   "outputs": [],
   "source": [
    "def add_sensor_constraints(file, x_coord, y_coord, sensor_id, bank_sensor_id, sensor_length):\n",
    "    file.write(\"# Sensor \"+str(sensor_id)+\"\\n\")\n",
    "    file.write(\"create_pblock sensor_\"+str(sensor_id)+\"\\n\")\n",
    "    file.write(\"resize_pblock sensor_\"+str(sensor_id)+\" -add {SLICE_X\"+str(x_coord)+\"Y\"+str(y_coord)+\":SLICE_X\"+str(x_coord)+\"Y\"+str(y_coord+sensor_length)+\"}\\n\")\n",
    "    file.write(\"add_cells_to_pblock sensor_\"+str(sensor_id)+\" [get_cells [list level0_i/ulp/PicoRV32_SCA_kernel_1/U0/sensors/sensor_gen[\"+str(bank_sensor_id)+\"].sensor/tdc0]] -clear_locs\\n\")\n",
    "    file.write(\"set_property LOC SLICE_X\"+str(x_coord)+\"Y\"+str(y_coord)+\" [get_cells [list level0_i/ulp/PicoRV32_SCA_kernel_1/U0/sensors/sensor_gen[\"+str(bank_sensor_id)+\"].sensor/tdc0/first_fine_carry]]\\n\")\n",
    "    file.write(\"set_property DONT_TOUCH true [get_cells [list level0_i/ulp/PicoRV32_SCA_kernel_1/U0/sensors/sensor_gen[\"+str(bank_sensor_id)+\"].sensor/tdc0/*]]\\n\")\n",
    "    file.write(\"set_property EXCLUDE_PLACEMENT 1 [get_pblocks sensor_\"+str(sensor_id)+\"]\\n\\n\")"
   ]
  },
  {
   "cell_type": "code",
   "execution_count": 3,
   "id": "85d80140",
   "metadata": {},
   "outputs": [],
   "source": [
    "def generate_pblock(file, name, resources, cells, exclude_placement):\n",
    "    file.write(\"\\n# \"+name+\" PBLOCK\\n\")\n",
    "    file.write(\"create_pblock \"+name+\"\\n\")\n",
    "    file.write(\"resize_pblock \"+name+\" -add {\")\n",
    "    for resource in resources:\n",
    "        for area in range(len(resources[resource])):\n",
    "            file.write(resource+\"_X\"+str(resources[resource][area][\"X_L\"])+\"Y\"+str(resources[resource][area][\"Y_B\"])+\":\"+resource+\"_X\"+str(resources[resource][area][\"X_R\"])+\"Y\"+str(resources[resource][area][\"Y_T\"])+\" \")\n",
    "    file.write(\"}\\n\")\n",
    "    if(cells!=[]):\n",
    "        for cell in cells:\n",
    "            print(cell)\n",
    "            file.write(\"add_cells_to_pblock \"+name+\" [get_cells [list \"+cell+\"]] -clear_locs\\n\")\n",
    "    if(exclude_placement==1):\n",
    "        file.write(\"set_property EXCLUDE_PLACEMENT 1 [get_pblocks \"+name+\"]\\n\")"
   ]
  },
  {
   "cell_type": "code",
   "execution_count": 4,
   "id": "de0af6f1",
   "metadata": {},
   "outputs": [],
   "source": [
    "def is_valid_placement(slices, x_coord, y_coord, sensor_length):\n",
    "    for y in range(0, sensor_length):\n",
    "        if(not (slices[slices['location'] == 'X'+str(x_coord)+'Y'+str(y_coord+y)].any()[0])):\n",
    "           return False\n",
    "        \n",
    "    return True"
   ]
  },
  {
   "cell_type": "code",
   "execution_count": 5,
   "id": "c5a78167",
   "metadata": {},
   "outputs": [],
   "source": [
    "TOP_SLR         = {\"SLICE\":   [{\"X_L\": 0, \"Y_B\": 600, \"X_R\": 168, \"Y_T\": 899}],\n",
    "                   \"DSP48E2\": [{\"X_L\": 0, \"Y_B\": 240, \"X_R\": 18, \"Y_T\": 359}],\n",
    "                   \"RAMB18\":  [{\"X_L\": 0, \"Y_B\": 240, \"X_R\": 11, \"Y_T\": 359}],\n",
    "                   \"RAMB36\":  [{\"X_L\": 0, \"Y_B\": 120, \"X_R\": 11, \"Y_T\": 179}],\n",
    "                   \"URAM288\": [{\"X_L\": 0, \"Y_B\": 160, \"X_R\": 3, \"Y_T\": 239}]}\n",
    "VICTIM_PBLOCK   = {\"SLICE\":   [{\"X_L\": 0, \"Y_B\": 660, \"X_R\": 82, \"Y_T\": 899}],\n",
    "                   \"DSP48E2\": [{\"X_L\": 0, \"Y_B\": 264, \"X_R\": 9, \"Y_T\": 359}],\n",
    "                   \"RAMB18\":  [{\"X_L\": 0, \"Y_B\": 264, \"X_R\": 5, \"Y_T\": 359}],\n",
    "                   \"RAMB36\":  [{\"X_L\": 0, \"Y_B\": 132, \"X_R\": 5, \"Y_T\": 179}],\n",
    "                   \"URAM288\": [{\"X_L\": 0, \"Y_B\": 176, \"X_R\": 1, \"Y_T\": 239}]}\n",
    "CPU_PBLOCK      = {\"SLICE\":   [{\"X_L\": 60, \"Y_B\": 780, \"X_R\": 82, \"Y_T\": 839}],\n",
    "                   \"DSP48E2\": [{\"X_L\": 9, \"Y_B\": 312, \"X_R\": 9, \"Y_T\": 335}],\n",
    "                   \"RAMB18\":  [{\"X_L\": 5, \"Y_B\": 312, \"X_R\": 5, \"Y_T\": 335}],\n",
    "                   \"RAMB36\":  [{\"X_L\": 5, \"Y_B\": 156, \"X_R\": 5, \"Y_T\": 167}],\n",
    "                   \"URAM288\": [{\"X_L\": 1, \"Y_B\": 208, \"X_R\": 1, \"Y_T\": 223}]}\n",
    "BUFFER_PBLOCK = {\"SLICE\":   [{\"X_L\": 83, \"Y_B\": 660, \"X_R\": 84, \"Y_T\": 899}]}\n",
    "#ATTACKER_PBLOCK = {\"SLICE\":   [{\"X_L\": 84, \"Y_B\": 660, \"X_R\": 168, \"Y_T\": 899}]}\n",
    "ATTACKER_PBLOCK = {\"SLICE\":   [{\"X_L\": 85, \"Y_B\": 660, \"X_R\": 168, \"Y_T\": 899}],\n",
    "                   \"DSP48E2\": [{\"X_L\": 10, \"Y_B\": 264, \"X_R\": 18, \"Y_T\": 359}],\n",
    "                   \"RAMB18\":  [{\"X_L\": 6, \"Y_B\": 264, \"X_R\": 11, \"Y_T\": 359}],\n",
    "                   \"RAMB36\":  [{\"X_L\": 6, \"Y_B\": 132, \"X_R\": 11, \"Y_T\": 179}],\n",
    "                   \"URAM288\": [{\"X_L\": 2, \"Y_B\": 176, \"X_R\": 3, \"Y_T\": 239}]}\n",
    "#SENSOR_PBLOCK   = {\"SLICE\":   {\"X_L\": 84, \"Y_B\": 660, \"X_R\": 168, \"Y_T\": 899}}#{\"X_L\": 0, \"Y_B\": 0, \"X_R\": 150, \"Y_T\": 100}\n",
    "SENSOR_PBLOCK   = {\"SLICE\":   {\"X_L\": 86, \"Y_B\": 660, \"X_R\": 168, \"Y_T\": 899}}#{\"X_L\": 0, \"Y_B\": 0, \"X_R\": 150, \"Y_T\": 100}\n",
    "CTRL_PBLOCK     = {\"SLICE\":   [{\"X_L\": 0, \"Y_B\": 600, \"X_R\": 168, \"Y_T\": 659}],\n",
    "                   \"DSP48E2\": [{\"X_L\": 0, \"Y_B\": 240, \"X_R\": 18, \"Y_T\": 263}],\n",
    "                   \"RAMB18\":  [{\"X_L\": 0, \"Y_B\": 240, \"X_R\": 11, \"Y_T\": 263}],\n",
    "                   \"RAMB36\":  [{\"X_L\": 0, \"Y_B\": 120, \"X_R\": 11, \"Y_T\": 131}],\n",
    "                   \"URAM288\": [{\"X_L\": 0, \"Y_B\": 160, \"X_R\": 3, \"Y_T\": 175}]}"
   ]
  },
  {
   "cell_type": "code",
   "execution_count": 6,
   "id": "351c951c",
   "metadata": {},
   "outputs": [],
   "source": [
    "N_SENSORS_PER_BANK = 30\n",
    "N_BANKS = 1\n",
    "N_SENSOR_ROWS = 6\n",
    "SENSOR_SIZE =  20\n",
    "SENSOR_GROUP_SIZE = 5\n",
    "SENSOR_SPACING = 2"
   ]
  },
  {
   "cell_type": "code",
   "execution_count": 7,
   "id": "473d9a93",
   "metadata": {},
   "outputs": [],
   "source": [
    "slices = pd.read_csv(\"slices.txt\", header=None)\n",
    "slices[['bla', 'location']] = slices[0].str.split('_', expand=True)\n",
    "slices = slices.drop([0, \"bla\"], axis=1)\n",
    "slices[['X', 'Y']] = slices[\"location\"].str.split('Y', expand=True)\n",
    "slices['X'] = slices['X'].str.extract('(\\d+)').astype(int)\n",
    "slices['Y'] = slices['Y'].astype(int)"
   ]
  },
  {
   "cell_type": "code",
   "execution_count": 8,
   "id": "23c44d2f",
   "metadata": {},
   "outputs": [
    {
     "name": "stdout",
     "output_type": "stream",
     "text": [
      "N_GROUPS_PER_BANK:  6\n",
      "N_GROUPS  6\n",
      "N_GROUPS_PER_ROW:  1\n",
      "horizontal_stride:  0\n",
      "vertical_stride:  43\n"
     ]
    }
   ],
   "source": [
    "if (N_SENSOR_ROWS*SENSOR_SIZE+(N_SENSOR_ROWS-1)*SENSOR_SPACING) > (SENSOR_PBLOCK[\"SLICE\"][\"Y_T\"]-SENSOR_PBLOCK[\"SLICE\"][\"Y_B\"]):\n",
    "    print(\"The specified number of sensor rows with the specified spacing does not fit in the pblock\")\n",
    "\n",
    "N_SENSORS = N_SENSORS_PER_BANK*N_BANKS\n",
    "\n",
    "if N_SENSORS_PER_BANK % SENSOR_GROUP_SIZE != 0:\n",
    "    print(\"The number of sensors in a bank must be divisible by the number of sensors in a cluster!\")\n",
    "else:\n",
    "    N_GROUPS_PER_BANK = int(N_SENSORS_PER_BANK/SENSOR_GROUP_SIZE)\n",
    "    \n",
    "N_GROUPS = N_GROUPS_PER_BANK*N_BANKS\n",
    "    \n",
    "if N_GROUPS % N_SENSOR_ROWS != 0:\n",
    "    print(\"Number of desired sensor groups is not divisible by the number of desired sensor rows!\")\n",
    "    print(N_GROUPS, \"vs\", N_SENSOR_ROWS)\n",
    "else:\n",
    "    N_GROUPS_PER_ROW = N_GROUPS//N_SENSOR_ROWS\n",
    "\n",
    "if(N_GROUPS_PER_ROW > 1):\n",
    "    horizontal_stride = SENSOR_GROUP_SIZE+((SENSOR_PBLOCK[\"SLICE\"][\"X_R\"]-SENSOR_PBLOCK[\"SLICE\"][\"X_L\"])-N_GROUPS_PER_ROW*SENSOR_GROUP_SIZE)//(N_GROUPS_PER_ROW-1)\n",
    "else:\n",
    "    horizontal_stride = 0\n",
    "vertical_stride = SENSOR_SIZE+((SENSOR_PBLOCK[\"SLICE\"][\"Y_T\"]-SENSOR_PBLOCK[\"SLICE\"][\"Y_B\"])-SENSOR_SIZE*N_SENSOR_ROWS)//(N_SENSOR_ROWS-1)\n",
    "\n",
    "print(\"N_GROUPS_PER_BANK: \", N_GROUPS_PER_BANK)\n",
    "print(\"N_GROUPS \", N_GROUPS)\n",
    "print(\"N_GROUPS_PER_ROW: \", N_GROUPS_PER_ROW)\n",
    "print(\"horizontal_stride: \", horizontal_stride)\n",
    "print(\"vertical_stride: \", vertical_stride)"
   ]
  },
  {
   "cell_type": "code",
   "execution_count": 9,
   "id": "75f35385",
   "metadata": {
    "scrolled": true
   },
   "outputs": [
    {
     "name": "stdout",
     "output_type": "stream",
     "text": [
      "level0_i/ulp/PicoRV32_SCA_kernel_1/U0/CPU\n",
      "level0_i/ulp/PicoRV32_SCA_kernel_1/U0/trace_fifo\n",
      "level0_i/ulp/PicoRV32_SCA_kernel_1/U0/FifoDumper\n",
      "level0_i/ulp/PicoRV32_SCA_kernel_1/U0/sensors/sensor_gen[*].IDC_reg[*][*]\n",
      "level0_i/ulp/PicoRV32_SCA_kernel_1/U0/sensors/sensor_gen[*].IDF_reg[*][*]\n",
      "level0_i/ulp/PicoRV32_SCA_kernel_1/U0/AxiFIFOFlusher\n",
      "level0_i/ulp/PicoRV32_SCA_kernel_1/U0/AxiLiteFSM\n",
      "level0_i/ulp/PicoRV32_SCA_kernel_1/U0/AxiLoader\n",
      "level0_i/ulp/PicoRV32_SCA_kernel_1/U0/dump_sync\n",
      "level0_i/ulp/PicoRV32_SCA_kernel_1/U0/trap_sync\n",
      "Sensor group : 0\n",
      "Sensor  0  : X 86 Y 660\n",
      "Sensor  1  : X 87 Y 660\n",
      "Sensor  2  : X 88 Y 660\n",
      "Sensor  3  : X 89 Y 660\n",
      "Sensor  4  : X 90 Y 660\n",
      "Sensor group : 1\n",
      "Sensor  0  : X 86 Y 703\n",
      "Sensor  1  : X 87 Y 703\n",
      "Sensor  2  : X 88 Y 703\n",
      "Sensor  3  : X 89 Y 703\n",
      "Sensor  4  : X 90 Y 703\n",
      "Sensor group : 2\n",
      "Sensor  0  : X 86 Y 746\n",
      "Sensor  1  : X 87 Y 746\n",
      "Sensor  2  : X 88 Y 746\n",
      "Sensor  3  : X 89 Y 746\n",
      "Sensor  4  : X 90 Y 746\n",
      "Sensor group : 3\n",
      "Sensor  0  : X 86 Y 789\n",
      "Sensor  1  : X 87 Y 789\n",
      "Sensor  2  : X 88 Y 789\n",
      "Sensor  3  : X 89 Y 789\n",
      "Sensor  4  : X 90 Y 789\n",
      "Sensor group : 4\n",
      "Sensor  0  : X 86 Y 832\n",
      "Sensor  1  : X 87 Y 832\n",
      "Sensor  2  : X 88 Y 832\n",
      "Sensor  3  : X 89 Y 832\n",
      "Sensor with anchor at location : X 90 Y 832 cannot be placed! Moving sensor to the right\n",
      "Sensor  4  : X 91 Y 832\n",
      "Sensor group : 5\n",
      "Sensor  0  : X 86 Y 875\n",
      "Sensor  1  : X 87 Y 875\n",
      "Sensor  2  : X 88 Y 875\n",
      "Sensor  3  : X 89 Y 875\n",
      "Sensor with anchor at location : X 90 Y 875 cannot be placed! Moving sensor to the right\n",
      "Sensor  4  : X 91 Y 875\n"
     ]
    }
   ],
   "source": [
    "bank_id = 0\n",
    "sensor_id = 0\n",
    "bank_sensor_id = 0\n",
    "\n",
    "placement = pd.DataFrame(np.zeros((slices['Y'].max(),slices['X'].max())))\n",
    "\n",
    "constraints = open(\"../pblocks_TDC.tcl\", \"w\")\n",
    "\n",
    "#generate_pblock(constraints, \"TOP_SLR\", TOP_SLR, [], 0)\n",
    "generate_pblock(constraints, \"VICTIM\", VICTIM_PBLOCK, [], 0)\n",
    "generate_pblock(constraints, \"SEPARATION\", BUFFER_PBLOCK, [], 1)\n",
    "generate_pblock(constraints, \"CPU\", CPU_PBLOCK, [\"level0_i/ulp/PicoRV32_SCA_kernel_1/U0/CPU\"], 1)\n",
    "generate_pblock(constraints, \"ATTACKER\", ATTACKER_PBLOCK, [\"level0_i/ulp/PicoRV32_SCA_kernel_1/U0/trace_fifo\",\n",
    "                                                           \"level0_i/ulp/PicoRV32_SCA_kernel_1/U0/FifoDumper\",\n",
    "                                                           \"level0_i/ulp/PicoRV32_SCA_kernel_1/U0/sensors/sensor_gen[*].IDC_reg[*][*]\",\n",
    "                                                           \"level0_i/ulp/PicoRV32_SCA_kernel_1/U0/sensors/sensor_gen[*].IDF_reg[*][*]\"], 0)\n",
    "generate_pblock(constraints, \"CTRL\", CTRL_PBLOCK, [\"level0_i/ulp/PicoRV32_SCA_kernel_1/U0/AxiFIFOFlusher\",\n",
    "                                                   \"level0_i/ulp/PicoRV32_SCA_kernel_1/U0/AxiLiteFSM\",\n",
    "                                                   \"level0_i/ulp/PicoRV32_SCA_kernel_1/U0/AxiLoader\",\n",
    "                                                   #\"level0_i/ulp/PicoRV32_SCA_kernel_1/U0/bank_generate[*]*/sensors/sensor_gen[*].IDC_reg[*][*]\",\n",
    "                                                   #\"level0_i/ulp/PicoRV32_SCA_kernel_1/U0/bank_generate[*]*/sensors/sensor_gen[*].IDF_reg[*][*]\",\n",
    "                                                   \"level0_i/ulp/PicoRV32_SCA_kernel_1/U0/dump_sync\",\n",
    "                                                   \"level0_i/ulp/PicoRV32_SCA_kernel_1/U0/trap_sync\"], 0)\n",
    "\n",
    "for i in range(0, N_GROUPS_PER_ROW):\n",
    "    for j in range(0, N_SENSOR_ROWS):\n",
    "        x_coord = SENSOR_PBLOCK[\"SLICE\"][\"X_L\"]+i*horizontal_stride\n",
    "        y_coord = SENSOR_PBLOCK[\"SLICE\"][\"Y_B\"]+j*vertical_stride\n",
    "        print(\"Sensor group :\", i*N_SENSOR_ROWS+j)\n",
    "        for k in range(0, SENSOR_GROUP_SIZE):\n",
    "            \n",
    "            while(is_valid_placement(slices, x_coord+k, y_coord, SENSOR_SIZE) == False):\n",
    "                print(\"Sensor with anchor at location : X\", x_coord+k, \"Y\", y_coord, \"cannot be placed! Moving sensor to the right\")\n",
    "                x_coord += 1\n",
    "                \n",
    "            print(\"Sensor \", k, \" : X\", x_coord+k, \"Y\", y_coord)\n",
    "\n",
    "            add_sensor_constraints(constraints, x_coord+k, y_coord, sensor_id, bank_sensor_id+1, SENSOR_SIZE)\n",
    "            for yyy in range(y_coord, y_coord+SENSOR_SIZE):\n",
    "                placement.iloc[yyy, x_coord+k] = 100\n",
    "            sensor_id +=1\n",
    "            bank_sensor_id = sensor_id % N_SENSORS_PER_BANK\n",
    "            if(sensor_id>0 and sensor_id % N_SENSORS_PER_BANK==0):\n",
    "                bank_id += 1\n",
    "                \n",
    "constraints.close()"
   ]
  },
  {
   "cell_type": "code",
   "execution_count": 10,
   "id": "e0a4a392",
   "metadata": {},
   "outputs": [
    {
     "data": {
      "image/png": "[encoded data removed]",
      "text/plain": [
       "<Figure size 288x1152 with 1 Axes>"
      ]
     },
     "metadata": {
      "needs_background": "light"
     },
     "output_type": "display_data"
    }
   ],
   "source": [
    "plt.matshow(placement.loc[::-1])\n",
    "plt.show()"
   ]
  },
  {
   "cell_type": "code",
   "execution_count": 11,
   "id": "f01f45c2",
   "metadata": {},
   "outputs": [
    {
     "ename": "NameError",
     "evalue": "name 'stop' is not defined",
     "output_type": "error",
     "traceback": [
      "\u001b[0;31m---------------------------------------------------------------------------\u001b[0m",
      "\u001b[0;31mNameError\u001b[0m                                 Traceback (most recent call last)",
      "Input \u001b[0;32mIn [11]\u001b[0m, in \u001b[0;36m<cell line: 1>\u001b[0;34m()\u001b[0m\n\u001b[0;32m----> 1\u001b[0m \u001b[43mstop\u001b[49m\n",
      "\u001b[0;31mNameError\u001b[0m: name 'stop' is not defined"
     ]
    }
   ],
   "source": [
    "stop"
   ]
  },
  {
   "cell_type": "code",
   "execution_count": null,
   "id": "85405f91",
   "metadata": {},
   "outputs": [],
   "source": []
  }
 ],
 "metadata": {
  "kernelspec": {
   "display_name": "Python 3 (ipykernel)",
   "language": "python",
   "name": "python3"
  },
  "language_info": {
   "codemirror_mode": {
    "name": "ipython",
    "version": 3
   },
   "file_extension": ".py",
   "mimetype": "text/x-python",
   "name": "python",
   "nbconvert_exporter": "python",
   "pygments_lexer": "ipython3",
   "version": "3.8.10"
  }
 },
 "nbformat": 4,
 "nbformat_minor": 5
}
