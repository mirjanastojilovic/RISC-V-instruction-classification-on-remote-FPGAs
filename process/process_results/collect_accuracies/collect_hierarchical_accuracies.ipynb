{
 "cells": [
  {
   "cell_type": "code",
   "execution_count": 1,
   "id": "cbe77171",
   "metadata": {},
   "outputs": [],
   "source": [
    "import os\n",
    "import pandas as pd\n",
    "import pickle\n",
    "import ast\n",
    "import sys\n",
    "import re\n",
    "import numpy as np"
   ]
  },
  {
   "cell_type": "code",
   "execution_count": 2,
   "id": "48c75f57",
   "metadata": {},
   "outputs": [],
   "source": [
    "OUT_DIR=\"/media/SSD/paper_data/\""
   ]
  },
  {
   "cell_type": "code",
   "execution_count": 3,
   "id": "13b9c3b5",
   "metadata": {},
   "outputs": [],
   "source": [
    "sensor_tag=\"all\"\n",
    "seeds = [0]\n",
    "preprocessings = [\"none\"]\n",
    "models = [\"resnet\"]\n",
    "hierarchicals = ['top', 'arith', 'logic', 'compare', 'shift', 'load', 'store', 'branch', 'jump']\n",
    "datasets = [\"OUT1/random\"]\n",
    "i = 10000\n",
    "topks = [2, 3, 4, 5, 6]\n",
    "topk_empty = []\n",
    "\n",
    "columns = ['dataset', 'model', 'hierarchical', 'preprocessing', 'seed', 'kfold', 'accuracy']\n",
    "accuracies = pd.DataFrame(columns=columns)\n",
    "\n",
    "jobs_to_repeat = []\n",
    "\n",
    "results_idx = 0\n",
    "\n",
    "for seed in seeds:\n",
    "    for preprocessing in preprocessings:\n",
    "        for model in models:\n",
    "            for dataset in datasets:\n",
    "                for hierarchical in hierarchicals:\n",
    "                \n",
    "                    model_small=model.replace(\"_\", \"-\").replace(\"+\", \"-\").replace(\"/\", \"-\").lower()\n",
    "                    dataset_small=dataset.replace(\"_\", \"-\").replace(\"+\", \"-\").replace(\"/\", \"-\").lower()\n",
    "                    preprocessing_small=preprocessing.replace(\"_\", \"-\").replace(\"+\", \"-\").replace(\"/\", \"-\").lower()\n",
    "\n",
    "                    acc_file=OUT_DIR+\"/sakura/Exp-\"+dataset+\"/results/\"+model+\"_h\"+hierarchical+\"_p\"+preprocessing+\"_\"+str(i)+\"_s\"+str(seed)+\"-sensors-\"+sensor_tag+\"_10fold/out/kfold_results.txt\"\n",
    "\n",
    "                    # Check if job was completed\n",
    "                    if(os.path.exists(acc_file)!=True):\n",
    "                        print(\"Results for \"+\"Exp-\"+dataset+\"/results/\"+model+\"_h\"+hierarchical+\"_p\"+preprocessing+\"_\"+str(i)+\"_s\"+str(seed)+\"-sensors-\"+sensor_tag+\"_10fold\"+\" not yet ready!\")\n",
    "                        jobs_to_repeat.append(\"prs-\"+dataset_small+\"-\"+model_small+\"_h\"+hierarchical+\"-p\"+preprocessing_small+\"-\"+str(i)+\"-s\"+str(seed)+\"-sens-\"+sensor_tag)\n",
    "                        for kfold_tmp in range(10):\n",
    "                            accuracies.loc[results_idx] = [\"Exp-\"+dataset_small, model, hierarchical, preprocessing, 0, kfold_tmp, \"-\"]\n",
    "                            results_idx = results_idx+1\n",
    "                        accuracies.loc[results_idx] = [\"Exp-\"+dataset_small, model, hierarchical, preprocessing, 0, \"avg\", \"-\"]\n",
    "                        results_idx = results_idx+1\n",
    "                        continue\n",
    "\n",
    "                    # Check if data was stored safetly\n",
    "                    num_lines = sum(1 for line in open(acc_file))\n",
    "                    if(num_lines <= 11):\n",
    "                        print(\"Missing data for \"+\"Exp-\"+dataset+\"/results/\"+model+\"_h\"+hierarchical+\"_p\"+preprocessing+\"_\"+str(i)+\"_s\"+str(seed)+\"-sensors-\"+sensor_tag+\"_10fold\")\n",
    "                        jobs_to_repeat.append(\"prs-\"+dataset_small+\"-\"+model_small+\"_h\"+hierarchical+\"-p\"+preprocessing_small+\"-\"+str(i)+\"-s\"+str(seed)+\"-sens-\"+sensor_tag)\n",
    "                        for kfold_tmp in range(10):\n",
    "                            accuracies.loc[results_idx] = [\"Exp-\"+dataset_small, model, hierarchical, preprocessing, 0, kfold_tmp, \"-\"]\n",
    "                            results_idx = results_idx+1\n",
    "                        accuracies.loc[results_idx] = [\"Exp-\"+dataset_small, model, hierarchical, preprocessing, 0, \"avg\", \"-\"]\n",
    "                        results_idx = results_idx+1\n",
    "                        continue\n",
    "                    #print(out_path)\n",
    "\n",
    "                    file1 = open(acc_file, 'r')\n",
    "                    Lines = file1.readlines()\n",
    "\n",
    "                    for count, line in enumerate(Lines):\n",
    "                        #print(\"Line{}: {}\".format(count, line.strip()))\n",
    "                        if(count>=1 and count <=10):\n",
    "                            acc_evol=OUT_DIR+\"/sakura/Exp-\"+dataset+\"/results/\"+model+\"_h\"+hierarchical+\"_p\"+preprocessing+\"_\"+str(i)+\"_s\"+str(seed)+\"-sensors-\"+sensor_tag+\"_10fold/out/log/LSTM+CNN_kf\"+str(count-1)+\".txt\"\n",
    "                            kf_accuracy = re.findall(\"\\d+\\.\\d+\", line.strip())[1]\n",
    "                            #row = pd.DataFrame(['Exp-IN', 'LSTM+CNN', 'none', 0, count, kf_accuracy])\n",
    "                            #accuracies = pd.concat([accuracies, row], axis=0, ignore_index=True)\n",
    "                            accuracies.loc[results_idx] = [\"Exp-\"+dataset_small, model, hierarchical, preprocessing, 0, count-1, kf_accuracy]\n",
    "                            results_idx = results_idx+1\n",
    "                        if(count==12):\n",
    "                            kf_accuracy = re.findall(\"\\d+\\.\\d+\", line.strip())[0]\n",
    "                            accuracies.loc[results_idx] = [\"Exp-\"+dataset_small, model, hierarchical, preprocessing, 0, \"avg\", kf_accuracy]\n",
    "                            results_idx = results_idx+1\n",
    "\n",
    "                    file1.close()"
   ]
  },
  {
   "cell_type": "code",
   "execution_count": 14,
   "id": "4e0f8e56",
   "metadata": {},
   "outputs": [],
   "source": [
    "accuracies.to_csv(OUT_DIR+\"/sakura/accuracies/accuracies_hierarchical_all.csv\", index=False)\n",
    "accuracies.iloc[:, 0:7].loc[accuracies.kfold=='avg'].reset_index(drop=True).to_csv(OUT_DIR+\"/sakura/accuracies/accuracies_hierarchical_averaged.csv\", index=False)"
   ]
  }
 ],
 "metadata": {
  "kernelspec": {
   "display_name": "Python 3 (ipykernel)",
   "language": "python",
   "name": "python3"
  },
  "language_info": {
   "codemirror_mode": {
    "name": "ipython",
    "version": 3
   },
   "file_extension": ".py",
   "mimetype": "text/x-python",
   "name": "python",
   "nbconvert_exporter": "python",
   "pygments_lexer": "ipython3",
   "version": "3.8.10"
  }
 },
 "nbformat": 4,
 "nbformat_minor": 5
}
