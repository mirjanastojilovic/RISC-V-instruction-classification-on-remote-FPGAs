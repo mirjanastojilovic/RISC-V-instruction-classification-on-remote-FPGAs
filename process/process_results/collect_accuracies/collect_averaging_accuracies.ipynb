{
 "cells": [
  {
   "cell_type": "code",
   "execution_count": 1,
   "id": "0e0cfeeb",
   "metadata": {},
   "outputs": [],
   "source": [
    "import os\n",
    "import pandas as pd\n",
    "import pickle\n",
    "import ast\n",
    "import sys\n",
    "import re"
   ]
  },
  {
   "cell_type": "code",
   "execution_count": 2,
   "id": "96e219a4",
   "metadata": {},
   "outputs": [],
   "source": [
    "OUT_DIR=\"/media/SSD/paper_data/\""
   ]
  },
  {
   "cell_type": "code",
   "execution_count": 8,
   "id": "aff40ef5",
   "metadata": {},
   "outputs": [],
   "source": [
    "sensor_tag=\"all\"\n",
    "seeds = [0]#, 1, 2, 3, 4]\n",
    "preprocessings = [\"none\"]#, \"CWT-H\", \"CWT-V\"]\n",
    "models = ['resnet']#[\"LSTM\", \"CNN\", \"CNN_small\", \"LSTM+CNN\", \"CNN+LSTM\", \"MLP\", \"resnet\"]\n",
    "datasets = [\"IN/nops\", \"OUT1/nops\", \"OUT1/random\", \"OUT2/nops\"]\n",
    "averagings = [1, 10, 20, 30, 40, 50, 60, 70, 80, 90, 100]\n",
    "i=10000\n",
    "K_FOLD =1\n",
    "\n",
    "columns = ['dataset', 'averaging', 'model', 'preprocessing', 'seed', 'accuracy']\n",
    "accuracies = pd.DataFrame(columns=columns)\n",
    "\n",
    "results_idx = 0\n",
    "\n",
    "for seed in seeds:\n",
    "    for preprocessing in preprocessings:\n",
    "        for model in models:\n",
    "            for dataset in datasets:\n",
    "                for average in averagings:\n",
    "\n",
    "                    model_small=model.replace(\"_\", \"-\").replace(\"+\", \"-\").replace(\"/\", \"-\").lower()\n",
    "                    dataset_small=dataset.replace(\"_\", \"-\").replace(\"+\", \"-\").replace(\"/\", \"-\").lower()\n",
    "                    preprocessing_small=preprocessing.replace(\"_\", \"-\").replace(\"+\", \"-\").replace(\"/\", \"-\").lower()\n",
    "\n",
    "                    acc_file=OUT_DIR+\"/sakura/Exp-\"+dataset+\"/results/\"+model+\"_p\"+preprocessing+\"_a\"+str(average)+\"_\"+str(i)+\"_s\"+str(seed)+\"-sensors-\"+sensor_tag+\"_\"+str(K_FOLD)+\"fold/out/record/LSTM+CNN_record.txt\"\n",
    "\n",
    "                    # Check if job was completed\n",
    "                    if(os.path.exists(acc_file)!=True):\n",
    "                        print(\"Results for \"+acc_file+\" not yet ready!\")\n",
    "                        accuracies.loc[results_idx] = [\"Exp-\"+dataset_small, average, model, preprocessing, seed, \"-\"]\n",
    "                        results_idx = results_idx+1\n",
    "                        continue\n",
    "\n",
    "                    # Check if data was stored safetly\n",
    "                    num_lines = sum(1 for line in open(acc_file))\n",
    "                    if(num_lines < 1):\n",
    "                        print(\"Missing data for \"+acc_file+\" not yet ready!\")\n",
    "                        accuracies.loc[results_idx] = [\"Exp-\"+dataset_small, average, model, preprocessing, seed, \"-\"]\n",
    "                        results_idx = results_idx+1\n",
    "                        continue\n",
    "                    #print(out_path)\n",
    "\n",
    "                    file1 = open(acc_file, 'r')\n",
    "                    Lines = file1.readlines()\n",
    "\n",
    "                    for count, line in enumerate(Lines):\n",
    "                        #print(\"Line{}: {}\".format(count, line.strip()))\n",
    "                        if(count==4):\n",
    "                            accuracy = re.findall(\"\\d+\\.\\d+\", line.strip())[0]\n",
    "                            #row = pd.DataFrame(['Exp-IN', 'LSTM+CNN', 'none', 0, count, kf_accuracy])\n",
    "                            #accuracies = pd.concat([accuracies, row], axis=0, ignore_index=True)\n",
    "                            accuracies.loc[results_idx] = [\"Exp-\"+dataset_small, average, model, preprocessing, seed, float(accuracy)]\n",
    "                            results_idx = results_idx+1\n",
    "\n",
    "                    file1.close()"
   ]
  },
  {
   "cell_type": "code",
   "execution_count": 9,
   "id": "c9c7437b",
   "metadata": {},
   "outputs": [],
   "source": [
    "accuracies.to_csv(OUT_DIR+\"/sakura/accuracies/accuracies_averaging.csv\", index=False)"
   ]
  }
 ],
 "metadata": {
  "kernelspec": {
   "display_name": "Python 3 (ipykernel)",
   "language": "python",
   "name": "python3"
  },
  "language_info": {
   "codemirror_mode": {
    "name": "ipython",
    "version": 3
   },
   "file_extension": ".py",
   "mimetype": "text/x-python",
   "name": "python",
   "nbconvert_exporter": "python",
   "pygments_lexer": "ipython3",
   "version": "3.8.10"
  }
 },
 "nbformat": 4,
 "nbformat_minor": 5
}
